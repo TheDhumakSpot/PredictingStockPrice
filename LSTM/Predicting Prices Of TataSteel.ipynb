{
 "cells": [
  {
   "cell_type": "markdown",
   "id": "ec1d9d62",
   "metadata": {},
   "source": [
    "# **Predicting Closing Day Price Using LSTM RNN model**"
   ]
  },
  {
   "cell_type": "code",
   "execution_count": 1,
   "id": "b6ec3c96",
   "metadata": {},
   "outputs": [],
   "source": [
    "import numpy as np\n",
    "import pandas as pd"
   ]
  },
  {
   "cell_type": "markdown",
   "id": "74e752bf",
   "metadata": {},
   "source": [
    "## Loading Data"
   ]
  },
  {
   "cell_type": "code",
   "execution_count": 2,
   "id": "eca30067",
   "metadata": {},
   "outputs": [
    {
     "data": {
      "text/html": [
       "<div>\n",
       "<style scoped>\n",
       "    .dataframe tbody tr th:only-of-type {\n",
       "        vertical-align: middle;\n",
       "    }\n",
       "\n",
       "    .dataframe tbody tr th {\n",
       "        vertical-align: top;\n",
       "    }\n",
       "\n",
       "    .dataframe thead th {\n",
       "        text-align: right;\n",
       "    }\n",
       "</style>\n",
       "<table border=\"1\" class=\"dataframe\">\n",
       "  <thead>\n",
       "    <tr style=\"text-align: right;\">\n",
       "      <th></th>\n",
       "      <th>Date</th>\n",
       "      <th>Open</th>\n",
       "      <th>High</th>\n",
       "      <th>Low</th>\n",
       "      <th>Close</th>\n",
       "      <th>Adj Close</th>\n",
       "      <th>Volume</th>\n",
       "    </tr>\n",
       "  </thead>\n",
       "  <tbody>\n",
       "    <tr>\n",
       "      <th>0</th>\n",
       "      <td>9/6/2022</td>\n",
       "      <td>107.400002</td>\n",
       "      <td>108.800003</td>\n",
       "      <td>106.050003</td>\n",
       "      <td>108.599998</td>\n",
       "      <td>105.167511</td>\n",
       "      <td>59505849</td>\n",
       "    </tr>\n",
       "    <tr>\n",
       "      <th>1</th>\n",
       "      <td>9/7/2022</td>\n",
       "      <td>107.550003</td>\n",
       "      <td>108.900002</td>\n",
       "      <td>107.099998</td>\n",
       "      <td>107.599998</td>\n",
       "      <td>104.199120</td>\n",
       "      <td>43945660</td>\n",
       "    </tr>\n",
       "    <tr>\n",
       "      <th>2</th>\n",
       "      <td>9/8/2022</td>\n",
       "      <td>108.400002</td>\n",
       "      <td>108.400002</td>\n",
       "      <td>105.349998</td>\n",
       "      <td>105.849998</td>\n",
       "      <td>102.504433</td>\n",
       "      <td>71228405</td>\n",
       "    </tr>\n",
       "    <tr>\n",
       "      <th>3</th>\n",
       "      <td>9/9/2022</td>\n",
       "      <td>107.000000</td>\n",
       "      <td>107.349998</td>\n",
       "      <td>105.500000</td>\n",
       "      <td>105.699997</td>\n",
       "      <td>102.359169</td>\n",
       "      <td>63647166</td>\n",
       "    </tr>\n",
       "    <tr>\n",
       "      <th>4</th>\n",
       "      <td>9/12/2022</td>\n",
       "      <td>106.800003</td>\n",
       "      <td>107.949997</td>\n",
       "      <td>106.500000</td>\n",
       "      <td>107.750000</td>\n",
       "      <td>104.344383</td>\n",
       "      <td>40838533</td>\n",
       "    </tr>\n",
       "  </tbody>\n",
       "</table>\n",
       "</div>"
      ],
      "text/plain": [
       "        Date        Open        High         Low       Close   Adj Close  \\\n",
       "0   9/6/2022  107.400002  108.800003  106.050003  108.599998  105.167511   \n",
       "1   9/7/2022  107.550003  108.900002  107.099998  107.599998  104.199120   \n",
       "2   9/8/2022  108.400002  108.400002  105.349998  105.849998  102.504433   \n",
       "3   9/9/2022  107.000000  107.349998  105.500000  105.699997  102.359169   \n",
       "4  9/12/2022  106.800003  107.949997  106.500000  107.750000  104.344383   \n",
       "\n",
       "     Volume  \n",
       "0  59505849  \n",
       "1  43945660  \n",
       "2  71228405  \n",
       "3  63647166  \n",
       "4  40838533  "
      ]
     },
     "execution_count": 2,
     "metadata": {},
     "output_type": "execute_result"
    }
   ],
   "source": [
    "# Load the data and extract the closing prices\n",
    "dataset = pd.read_csv('TataSteel.csv')\n",
    "dataset.head()"
   ]
  },
  {
   "cell_type": "markdown",
   "id": "2a1917ab",
   "metadata": {},
   "source": [
    " ## **Working only on Closing Price**"
   ]
  },
  {
   "cell_type": "code",
   "execution_count": 3,
   "id": "3d00201e",
   "metadata": {},
   "outputs": [
    {
     "name": "stdout",
     "output_type": "stream",
     "text": [
      "Lenght of Closing Price column is 261\n"
     ]
    }
   ],
   "source": [
    "closing_prices = dataset['Close'].values.reshape(-1, 1)\n",
    "print('Lenght of Closing Price column is', len(closing_prices))"
   ]
  },
  {
   "cell_type": "markdown",
   "id": "2af664c7",
   "metadata": {},
   "source": [
    "## **Ploting Actual (current Dataset)**"
   ]
  },
  {
   "cell_type": "code",
   "execution_count": 4,
   "id": "c13a5220",
   "metadata": {},
   "outputs": [
    {
     "data": {
      "text/plain": [
       "[<matplotlib.lines.Line2D at 0x1e5170bcaf0>]"
      ]
     },
     "execution_count": 4,
     "metadata": {},
     "output_type": "execute_result"
    },
    {
     "data": {
      "image/png": "[encoded data removed]",
      "text/plain": [
       "<Figure size 432x288 with 1 Axes>"
      ]
     },
     "metadata": {
      "needs_background": "light"
     },
     "output_type": "display_data"
    }
   ],
   "source": [
    "import matplotlib.pyplot as plt\n",
    "\n",
    "plt.plot(dataset['Close'])  #ploting Dataset"
   ]
  },
  {
   "cell_type": "markdown",
   "id": "cd7e29f1",
   "metadata": {},
   "source": [
    "## **Model Preprocessing**"
   ]
  },
  {
   "cell_type": "code",
   "execution_count": 5,
   "id": "ddd69e1c",
   "metadata": {},
   "outputs": [
    {
     "name": "stderr",
     "output_type": "stream",
     "text": [
      "C:\\Users\\HP\\anaconda3\\lib\\site-packages\\scipy\\__init__.py:146: UserWarning: A NumPy version >=1.16.5 and <1.23.0 is required for this version of SciPy (detected version 1.24.3\n",
      "  warnings.warn(f\"A NumPy version >={np_minversion} and <{np_maxversion}\"\n"
     ]
    }
   ],
   "source": [
    "from sklearn.preprocessing import MinMaxScaler"
   ]
  },
  {
   "cell_type": "code",
   "execution_count": 6,
   "id": "78a60515",
   "metadata": {},
   "outputs": [],
   "source": [
    "# Normalize the data\n",
    "scaler = MinMaxScaler(feature_range=(0, 1))   #transforming closing_price values between 0 and 1\n",
    "closing_prices_normalized = scaler.fit_transform(closing_prices)\n"
   ]
  },
  {
   "cell_type": "markdown",
   "id": "68a83355",
   "metadata": {},
   "source": [
    "## **Creating a func to run RNN**"
   ]
  },
  {
   "cell_type": "code",
   "execution_count": 7,
   "id": "c2fe832a",
   "metadata": {},
   "outputs": [],
   "source": [
    "\n",
    "#function is to create sequences from a given set of data\n",
    "\n",
    "def create_sequences(data, time_steps):  \n",
    "    #here data (input data) is any variable, where later we are going to put dataset['Close']\n",
    "    #n_steps=time_steps=4 then -->1,2,3,4 values will predict 5th value,\n",
    "    #2,3,4,5 values will predict 6th value\n",
    "    #data-n_steps=no.of sequences\n",
    "    X, y = [], []  #empty lists  #X for feature , y for target\n",
    "    for i in range(len(data)):  #We go through each data point in the input dataset,\n",
    "        #create seq of features & targets for each data pt\n",
    "        #length of our data (length of closing price) may be 258\n",
    "        end_ix = i + time_steps  # 1+5\n",
    "        if end_ix > len(data)-1:   \n",
    "            break\n",
    "        seq_x, seq_y = data[i:end_ix], data[end_ix]  #featues and targets  #slicing dataset\n",
    "        X.append(seq_x)  #1 to 5 is appended in X as 1st list,then is next iteration, 2 to 6 is appended in X as new list &so on \n",
    "        y.append(seq_y)  #6 is appended in y, then in next iteration, 7 is appended in y\n",
    "    return np.array(X), np.array(y)  #convert lists into numpy arrays\n"
   ]
  },
  {
   "cell_type": "code",
   "execution_count": 8,
   "id": "ffbe2afc",
   "metadata": {},
   "outputs": [],
   "source": [
    "# Define the number of time steps for the LSTM model\n",
    "n_steps = 5  # Adjust as needed\n",
    "\n",
    "# Create sequences\n",
    "X, y = create_sequences(closing_prices_normalized, n_steps)\n",
    "#X (input sequences) and y (corresponding targets) \n",
    "\n",
    "#`X`: A set of input sequences, each containing `n_steps` data points.\n",
    "#`y`: The corresponding output or target for each input sequence, which is the data point immediately following the sequence.\n",
    "\n",
    "#if n_step=5\n",
    "#Each sequence of 5 data points becomes an X sequence.\n",
    "#The next (6th) data point after each X sequence becomes the corresponding y value (the target you want to predict)."
   ]
  },
  {
   "cell_type": "code",
   "execution_count": 9,
   "id": "9bec451e",
   "metadata": {},
   "outputs": [],
   "source": [
    "# print(X)\n",
    "# print(y)"
   ]
  },
  {
   "cell_type": "code",
   "execution_count": 10,
   "id": "dea733b8",
   "metadata": {
    "scrolled": true
   },
   "outputs": [
    {
     "data": {
      "text/plain": [
       "1280"
      ]
     },
     "execution_count": 10,
     "metadata": {},
     "output_type": "execute_result"
    }
   ],
   "source": [
    "X.size     "
   ]
  },
  {
   "cell_type": "code",
   "execution_count": 21,
   "id": "ce5f7b9c",
   "metadata": {},
   "outputs": [
    {
     "data": {
      "text/plain": [
       "1280"
      ]
     },
     "execution_count": 21,
     "metadata": {},
     "output_type": "execute_result"
    }
   ],
   "source": [
    "256*5"
   ]
  },
  {
   "cell_type": "code",
   "execution_count": 12,
   "id": "77727aec",
   "metadata": {},
   "outputs": [
    {
     "data": {
      "text/plain": [
       "256"
      ]
     },
     "execution_count": 12,
     "metadata": {},
     "output_type": "execute_result"
    }
   ],
   "source": [
    "len(X)   #this 251 will be number of seq  i.e.  #dataset(256)-time_step(5)= total number of values in X"
   ]
  },
  {
   "cell_type": "code",
   "execution_count": 22,
   "id": "f8d47623",
   "metadata": {},
   "outputs": [
    {
     "data": {
      "text/plain": [
       "251"
      ]
     },
     "execution_count": 22,
     "metadata": {},
     "output_type": "execute_result"
    }
   ],
   "source": [
    "256-5   #total number of sequences"
   ]
  },
  {
   "cell_type": "markdown",
   "id": "e6b00748",
   "metadata": {},
   "source": [
    "if there are 10 list in X (each list having 5 values) the len(X)=10 , **len counts only list**"
   ]
  },
  {
   "cell_type": "markdown",
   "id": "a56c1a7a",
   "metadata": {},
   "source": [
    "## **Split the data into training and testing sets**"
   ]
  },
  {
   "cell_type": "code",
   "execution_count": 14,
   "id": "1cf89c24",
   "metadata": {},
   "outputs": [],
   "source": [
    "#we have 2 columns X and y\n",
    "\n",
    "train_size = int(0.8 * len(X))   \n",
    "X_train, X_test, y_train, y_test = X[:train_size], X[train_size:], y[:train_size], y[train_size:]"
   ]
  },
  {
   "cell_type": "markdown",
   "id": "5532df9f",
   "metadata": {},
   "source": [
    "## **Building LSTM model**"
   ]
  },
  {
   "cell_type": "code",
   "execution_count": 15,
   "id": "bd928e79",
   "metadata": {},
   "outputs": [],
   "source": [
    "from sklearn.metrics import mean_squared_error\n",
    "from tensorflow.keras.models import Sequential\n",
    "from tensorflow.keras.layers import LSTM, Dense\n"
   ]
  },
  {
   "cell_type": "markdown",
   "id": "642804c2",
   "metadata": {},
   "source": [
    "**RNN/LSTM Layers for Sequence Processing:**\n",
    "\n",
    "RNN and LSTM layers are especially effective for processing sequential data, capturing temporal dependencies and patterns in the data.\n",
    "Dense Layer for Final Prediction:\n",
    "\n",
    "After the RNN or LSTM layers have processed the sequence and captured relevant features, a Dense layer can be added to perform the final prediction or classification and both layers are useful also for predicting accuracy."
   ]
  },
  {
   "cell_type": "markdown",
   "id": "fc901da9",
   "metadata": {},
   "source": [
    "\n",
    "\n",
    "1. **LSTM (or RNN) Layers for Feature Extraction and Learning Temporal Patterns**:\n",
    "   - LSTM (or RNN) layers are particularly effective in processing sequences of data, capturing temporal dependencies, and learning patterns over time.\n",
    "   - These layers are used to extract features and understand the relationships and patterns within the sequential input data.\n",
    "   - LSTM layers are crucial for minimizing loss and allowing the model to learn meaningful representations from the input sequences.\n",
    "\n",
    "2. **Dense Layers for Final Prediction**:\n",
    "   - Dense layers, often placed after LSTM layers (but not always), are used for making the final prediction based on the features learned by the preceding layers.\n",
    "   - Dense layers allow the model to learn non-linear combinations of features and map these to the desired output.\n",
    "   - The final Dense layer (or layers) transforms the learned features into the appropriate prediction format, whether it's a single numerical value, a class label, or another desired output format.\n",
    "\n",
    "In summary, the LSTM (or RNN) layers are crucial for learning patterns and minimizing loss by processing the input sequences effectively. The Dense layers, typically positioned after the LSTM layers, help in refining these learned features and making the final predictions or classifications.\n",
    "\n",
    "The combined architecture, including LSTM layers followed by Dense layers, is designed to optimize the learning process, capture temporal dependencies, and produce accurate predictions for the given task, such as predicting stock prices or any other time-series data."
   ]
  },
  {
   "cell_type": "code",
   "execution_count": 16,
   "id": "3919188c",
   "metadata": {},
   "outputs": [],
   "source": [
    "#LSTM ,Dense ,...these all are layers in Network\n",
    "model = Sequential()\n",
    "#This line initializes a sequential model. A sequential model is like a linear stack of layers,\n",
    "#where you can add layers one after the other.\n",
    "\n",
    "model.add(LSTM(units=100, activation='relu', input_shape=(n_steps, 1)))\n",
    "#The input_shape is typically specified only in the first layer to inform the model,\n",
    "#about the shape of the input data it will receive\n",
    "#LSTM layer is added to the model.\n",
    "#units = no. of nodes in particular layer\n",
    "#more units allow LSTM to learn more complex patterns\n",
    "#but it also increases computational complexity\n",
    "#relu = introduces non-linearity in the model.\n",
    "#n_steps is the number of time steps in each sequence, and 1 indicates that each time step has one feature.\n",
    "\n",
    "\n",
    "model.add(Dense(units=5))  # Output for the next 5 days\n",
    "#This adds a dense layer to the model, which is the output layer.\n",
    "#The dense layer is fully connected,\n",
    "#meaning each unit in this layer is connected to every unit in the previous layer (LSTM layer in this case).\n",
    "#The Dense layer will use a linear activation function by default,\n",
    "# meaning it will output the weighted sum of its inputs without any non-linearity.\n",
    "\n",
    "model.compile(optimizer='adam', loss='mse')\n",
    "#This compiles the model and specifies the optimizer and loss function for training.\n",
    "#adam=used to adjust the model's parameters during training to minimize the loss.\n",
    "#loss is calulated through Mean Squared Error"
   ]
  },
  {
   "cell_type": "markdown",
   "id": "8813feb6",
   "metadata": {},
   "source": [
    "In Keras, the activation function is a hyperparameter that you can set for each layer independently. If you don't specify an activation function for a particular layer, it will default to a linear activation (i.e., no activation function)."
   ]
  },
  {
   "cell_type": "markdown",
   "id": "dc839303",
   "metadata": {},
   "source": [
    "## **Training model**"
   ]
  },
  {
   "cell_type": "markdown",
   "id": "e5d84d93",
   "metadata": {},
   "source": [
    "**Verbose**\n",
    "\n",
    "**verbose=0**: No output during training (silent mode).\n",
    "\n",
    "**verbose=1**: Display a progress bar that updates after each epoch.\n",
    "\n",
    "**verbose=2**: Display one line per epoch, showing the epoch number and the loss.\n",
    "    \n",
    "Determines how the training progress is displayed during the training process.\n",
    "\n",
    "It is for **visualization purpose** and do not effect training of dataset"
   ]
  },
  {
   "cell_type": "code",
   "execution_count": 17,
   "id": "3a6c6a78",
   "metadata": {},
   "outputs": [
    {
     "name": "stdout",
     "output_type": "stream",
     "text": [
      "Epoch 1/10\n",
      "9/9 [==============================] - 6s 130ms/step - loss: 0.1308 - val_loss: 0.3896\n",
      "Epoch 2/10\n",
      "9/9 [==============================] - 0s 31ms/step - loss: 0.0901 - val_loss: 0.2567\n",
      "Epoch 3/10\n",
      "9/9 [==============================] - 0s 29ms/step - loss: 0.0449 - val_loss: 0.0933\n",
      "Epoch 4/10\n",
      "9/9 [==============================] - 0s 29ms/step - loss: 0.0114 - val_loss: 0.0087\n",
      "Epoch 5/10\n",
      "9/9 [==============================] - 0s 29ms/step - loss: 0.0121 - val_loss: 0.0184\n",
      "Epoch 6/10\n",
      "9/9 [==============================] - 0s 29ms/step - loss: 0.0076 - val_loss: 0.0316\n",
      "Epoch 7/10\n",
      "9/9 [==============================] - 0s 28ms/step - loss: 0.0074 - val_loss: 0.0151\n",
      "Epoch 8/10\n",
      "9/9 [==============================] - 0s 24ms/step - loss: 0.0067 - val_loss: 0.0160\n",
      "Epoch 9/10\n",
      "9/9 [==============================] - 0s 25ms/step - loss: 0.0063 - val_loss: 0.0115\n",
      "Epoch 10/10\n",
      "9/9 [==============================] - 0s 25ms/step - loss: 0.0059 - val_loss: 0.0113\n"
     ]
    },
    {
     "data": {
      "text/plain": [
       "<keras.src.callbacks.History at 0x1e524a3b490>"
      ]
     },
     "execution_count": 17,
     "metadata": {},
     "output_type": "execute_result"
    }
   ],
   "source": [
    "model.fit(X_train, y_train, epochs=10, batch_size=25, validation_data=(X_test, y_test))\n"
   ]
  },
  {
   "cell_type": "markdown",
   "id": "db703231",
   "metadata": {},
   "source": [
    "The **epochs** parameter specifies the number of times the model will iterate over the entire training dataset during the training process.\n",
    "\n",
    "The **batch_size** parameter determines the number of samples (data points) that will be used in each iteration (or batch) to update the model's weights.\n",
    "\n",
    "The **validation_data** parameter helps to monitor the model's performance on unseen data and detect overfitting.(optional)\n",
    "\n",
    "The **model.fit()** function will train the neural network using the specified training data (X_train, y_train). During each epoch, the training data is divided into batches (each of size batch_size), and the model's weights are updated based on the loss calculated on each batch. After each epoch, the model's performance is evaluated using the provided validation data."
   ]
  },
  {
   "cell_type": "markdown",
   "id": "87c75839",
   "metadata": {},
   "source": [
    "## **Predicting Future Prices**"
   ]
  },
  {
   "cell_type": "code",
   "execution_count": 18,
   "id": "2adb426a",
   "metadata": {},
   "outputs": [
    {
     "name": "stdout",
     "output_type": "stream",
     "text": [
      "1/1 [==============================] - 1s 502ms/step\n"
     ]
    }
   ],
   "source": [
    "# Predict the closing prices for the next 5 days\n",
    "latest_data = closing_prices_normalized[-n_steps:].reshape(1, n_steps, 1)\n",
    "#This line extracts the most recent n_steps normalized closing prices (from closing_prices_normalized), \n",
    "#reshapes them into the format expected by the model for prediction (1 sample, n_steps time steps, 1 feature per time step).\n",
    "\n",
    "predictions = model.predict(latest_data)\n"
   ]
  },
  {
   "cell_type": "markdown",
   "id": "a8507f19",
   "metadata": {},
   "source": [
    "The **[-n_steps:]** indexing retrieves the last n_steps elements from the array.\n",
    "\n",
    "**reshape(1, n_steps, 1)** is used to reshape this subset of data into the required shape for the LSTM model's input\n",
    "\n",
    "**1:** Indicates a single sample or instance of the data.\n",
    "\n",
    "**n_steps**: Represents the number of time steps in the sequence (in this case, the last n_steps normalized closing prices).\n",
    "\n",
    "**1**: Denotes the number of features at each time step. In this case, we have a single feature (normalized closing price) at each time step.\n",
    "\n",
    "This input shape conforms to the LSTM's expected input structure, where each time step is represented as a separate dimension, and there's a single feature per time step.\n"
   ]
  },
  {
   "cell_type": "markdown",
   "id": "a9411fa7",
   "metadata": {},
   "source": [
    "## **Inverse Transform and Predicting Prices**"
   ]
  },
  {
   "cell_type": "code",
   "execution_count": 19,
   "id": "d657fa56",
   "metadata": {},
   "outputs": [
    {
     "name": "stdout",
     "output_type": "stream",
     "text": [
      "Predicted closing prices for the next 5 days:\n",
      "[[127.765175]\n",
      " [126.23036 ]\n",
      " [127.52702 ]\n",
      " [127.82935 ]\n",
      " [128.7562  ]]\n"
     ]
    }
   ],
   "source": [
    "# Inverse transform the predictions to get actual closing prices\n",
    "predicted_prices = scaler.inverse_transform(predictions.reshape(-1, 1))\n",
    "\n",
    "print('Predicted closing prices for the next 5 days:')\n",
    "print(predicted_prices)"
   ]
  },
  {
   "cell_type": "markdown",
   "id": "8786ebd9",
   "metadata": {},
   "source": [
    "## **Ploting Predicted(Future) Prices**"
   ]
  },
  {
   "cell_type": "code",
   "execution_count": 20,
   "id": "b7896c6c",
   "metadata": {},
   "outputs": [
    {
     "data": {
      "image/png": "[encoded data removed]",
      "text/plain": [
       "<Figure size 432x288 with 1 Axes>"
      ]
     },
     "metadata": {
      "needs_background": "light"
     },
     "output_type": "display_data"
    }
   ],
   "source": [
    "plt.plot(np.arange(len(closing_prices)), closing_prices, label='Actual')\n",
    "plt.plot(np.arange(len(closing_prices), len(closing_prices) + len(predicted_prices)), predicted_prices, label='Predicted')\n",
    "plt.xlabel('Days')\n",
    "plt.ylabel('Closing Price')\n",
    "plt.title('Tata Steel Closing Price Prediction')\n",
    "plt.legend()\n",
    "plt.show()\n",
    "\n",
    "#(\"Plunge\"or\"Surge\") "
   ]
  },
  {
   "cell_type": "code",
   "execution_count": null,
   "id": "8a19f04e",
   "metadata": {},
   "outputs": [],
   "source": []
  }
 ],
 "metadata": {
  "kernelspec": {
   "display_name": "Python 3 (ipykernel)",
   "language": "python",
   "name": "python3"
  },
  "language_info": {
   "codemirror_mode": {
    "name": "ipython",
    "version": 3
   },
   "file_extension": ".py",
   "mimetype": "text/x-python",
   "name": "python",
   "nbconvert_exporter": "python",
   "pygments_lexer": "ipython3",
   "version": "3.9.12"
  }
 },
 "nbformat": 4,
 "nbformat_minor": 5
}
